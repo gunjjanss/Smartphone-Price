{
 "cells": [
  {
   "cell_type": "markdown",
   "metadata": {},
   "source": [
    "# Linear Regression Advertising Dataset:"
   ]
  },
  {
   "cell_type": "markdown",
   "metadata": {},
   "source": [
    "    1. Data Preprocessing\n",
    "    2. Univariate Analysis\n",
    "    3. Bivariate Analysis\n",
    "    4. Outlier Treatment\n",
    "    5. Splitting Data\n",
    "    6. Training step\n",
    "    7. Testing step\n",
    "    8. Prediction\n",
    "    9. Validation of the model"
   ]
  },
  {
   "cell_type": "code",
   "execution_count": 38,
   "metadata": {},
   "outputs": [],
   "source": [
    "import numpy as np\n",
    "import statsmodels\n",
    "import seaborn as sns\n",
    "from matplotlib import pyplot as plt\n",
    "%matplotlib inline\n",
    "import pandas as pd\n",
    "import os\n",
    "import seaborn as sns"
   ]
  },
  {
   "cell_type": "markdown",
   "metadata": {},
   "source": [
    "# Data Import"
   ]
  },
  {
   "cell_type": "code",
   "execution_count": 101,
   "metadata": {},
   "outputs": [],
   "source": [
    "df = pd.read_csv(r\"D:\\Python\\Linear Regression\\Multiple\\Cellphone.csv\", header=0)"
   ]
  },
  {
   "cell_type": "code",
   "execution_count": 52,
   "metadata": {},
   "outputs": [
    {
     "data": {
      "text/html": [
       "<div>\n",
       "<style scoped>\n",
       "    .dataframe tbody tr th:only-of-type {\n",
       "        vertical-align: middle;\n",
       "    }\n",
       "\n",
       "    .dataframe tbody tr th {\n",
       "        vertical-align: top;\n",
       "    }\n",
       "\n",
       "    .dataframe thead th {\n",
       "        text-align: right;\n",
       "    }\n",
       "</style>\n",
       "<table border=\"1\" class=\"dataframe\">\n",
       "  <thead>\n",
       "    <tr style=\"text-align: right;\">\n",
       "      <th></th>\n",
       "      <th>Price</th>\n",
       "      <th>ppi</th>\n",
       "      <th>cpu core</th>\n",
       "      <th>cpu freq</th>\n",
       "      <th>internal mem</th>\n",
       "      <th>ram</th>\n",
       "      <th>RearCam</th>\n",
       "      <th>Front_Cam</th>\n",
       "      <th>thickness</th>\n",
       "    </tr>\n",
       "  </thead>\n",
       "  <tbody>\n",
       "    <tr>\n",
       "      <th>0</th>\n",
       "      <td>2357</td>\n",
       "      <td>424</td>\n",
       "      <td>8</td>\n",
       "      <td>1.350</td>\n",
       "      <td>16.0</td>\n",
       "      <td>3.000</td>\n",
       "      <td>13.00</td>\n",
       "      <td>8.0</td>\n",
       "      <td>7.4</td>\n",
       "    </tr>\n",
       "    <tr>\n",
       "      <th>1</th>\n",
       "      <td>1749</td>\n",
       "      <td>233</td>\n",
       "      <td>2</td>\n",
       "      <td>1.300</td>\n",
       "      <td>4.0</td>\n",
       "      <td>1.000</td>\n",
       "      <td>3.15</td>\n",
       "      <td>0.0</td>\n",
       "      <td>9.9</td>\n",
       "    </tr>\n",
       "    <tr>\n",
       "      <th>2</th>\n",
       "      <td>1916</td>\n",
       "      <td>312</td>\n",
       "      <td>4</td>\n",
       "      <td>1.200</td>\n",
       "      <td>8.0</td>\n",
       "      <td>1.500</td>\n",
       "      <td>13.00</td>\n",
       "      <td>5.0</td>\n",
       "      <td>7.6</td>\n",
       "    </tr>\n",
       "    <tr>\n",
       "      <th>3</th>\n",
       "      <td>1315</td>\n",
       "      <td>233</td>\n",
       "      <td>2</td>\n",
       "      <td>1.300</td>\n",
       "      <td>4.0</td>\n",
       "      <td>0.512</td>\n",
       "      <td>3.15</td>\n",
       "      <td>0.0</td>\n",
       "      <td>11.0</td>\n",
       "    </tr>\n",
       "    <tr>\n",
       "      <th>4</th>\n",
       "      <td>1749</td>\n",
       "      <td>233</td>\n",
       "      <td>2</td>\n",
       "      <td>1.300</td>\n",
       "      <td>4.0</td>\n",
       "      <td>1.000</td>\n",
       "      <td>3.15</td>\n",
       "      <td>0.0</td>\n",
       "      <td>9.9</td>\n",
       "    </tr>\n",
       "    <tr>\n",
       "      <th>...</th>\n",
       "      <td>...</td>\n",
       "      <td>...</td>\n",
       "      <td>...</td>\n",
       "      <td>...</td>\n",
       "      <td>...</td>\n",
       "      <td>...</td>\n",
       "      <td>...</td>\n",
       "      <td>...</td>\n",
       "      <td>...</td>\n",
       "    </tr>\n",
       "    <tr>\n",
       "      <th>156</th>\n",
       "      <td>3551</td>\n",
       "      <td>538</td>\n",
       "      <td>4</td>\n",
       "      <td>1.875</td>\n",
       "      <td>128.0</td>\n",
       "      <td>6.000</td>\n",
       "      <td>12.00</td>\n",
       "      <td>16.0</td>\n",
       "      <td>8.4</td>\n",
       "    </tr>\n",
       "    <tr>\n",
       "      <th>157</th>\n",
       "      <td>3211</td>\n",
       "      <td>534</td>\n",
       "      <td>4</td>\n",
       "      <td>1.975</td>\n",
       "      <td>128.0</td>\n",
       "      <td>6.000</td>\n",
       "      <td>20.00</td>\n",
       "      <td>8.0</td>\n",
       "      <td>7.9</td>\n",
       "    </tr>\n",
       "    <tr>\n",
       "      <th>158</th>\n",
       "      <td>3260</td>\n",
       "      <td>401</td>\n",
       "      <td>8</td>\n",
       "      <td>2.200</td>\n",
       "      <td>64.0</td>\n",
       "      <td>4.000</td>\n",
       "      <td>20.00</td>\n",
       "      <td>20.0</td>\n",
       "      <td>6.8</td>\n",
       "    </tr>\n",
       "    <tr>\n",
       "      <th>159</th>\n",
       "      <td>3211</td>\n",
       "      <td>534</td>\n",
       "      <td>4</td>\n",
       "      <td>1.975</td>\n",
       "      <td>128.0</td>\n",
       "      <td>6.000</td>\n",
       "      <td>20.00</td>\n",
       "      <td>8.0</td>\n",
       "      <td>7.9</td>\n",
       "    </tr>\n",
       "    <tr>\n",
       "      <th>160</th>\n",
       "      <td>2536</td>\n",
       "      <td>367</td>\n",
       "      <td>8</td>\n",
       "      <td>1.500</td>\n",
       "      <td>16.0</td>\n",
       "      <td>3.000</td>\n",
       "      <td>21.50</td>\n",
       "      <td>16.0</td>\n",
       "      <td>8.4</td>\n",
       "    </tr>\n",
       "  </tbody>\n",
       "</table>\n",
       "<p>161 rows × 9 columns</p>\n",
       "</div>"
      ],
      "text/plain": [
       "     Price  ppi  cpu core  cpu freq  internal mem    ram  RearCam  Front_Cam  \\\n",
       "0     2357  424         8     1.350          16.0  3.000    13.00        8.0   \n",
       "1     1749  233         2     1.300           4.0  1.000     3.15        0.0   \n",
       "2     1916  312         4     1.200           8.0  1.500    13.00        5.0   \n",
       "3     1315  233         2     1.300           4.0  0.512     3.15        0.0   \n",
       "4     1749  233         2     1.300           4.0  1.000     3.15        0.0   \n",
       "..     ...  ...       ...       ...           ...    ...      ...        ...   \n",
       "156   3551  538         4     1.875         128.0  6.000    12.00       16.0   \n",
       "157   3211  534         4     1.975         128.0  6.000    20.00        8.0   \n",
       "158   3260  401         8     2.200          64.0  4.000    20.00       20.0   \n",
       "159   3211  534         4     1.975         128.0  6.000    20.00        8.0   \n",
       "160   2536  367         8     1.500          16.0  3.000    21.50       16.0   \n",
       "\n",
       "     thickness  \n",
       "0          7.4  \n",
       "1          9.9  \n",
       "2          7.6  \n",
       "3         11.0  \n",
       "4          9.9  \n",
       "..         ...  \n",
       "156        8.4  \n",
       "157        7.9  \n",
       "158        6.8  \n",
       "159        7.9  \n",
       "160        8.4  \n",
       "\n",
       "[161 rows x 9 columns]"
      ]
     },
     "execution_count": 52,
     "metadata": {},
     "output_type": "execute_result"
    }
   ],
   "source": [
    "df"
   ]
  },
  {
   "cell_type": "markdown",
   "metadata": {},
   "source": [
    "# Data Type "
   ]
  },
  {
   "cell_type": "code",
   "execution_count": 53,
   "metadata": {},
   "outputs": [
    {
     "name": "stdout",
     "output_type": "stream",
     "text": [
      "<class 'pandas.core.frame.DataFrame'>\n",
      "RangeIndex: 161 entries, 0 to 160\n",
      "Data columns (total 9 columns):\n",
      " #   Column        Non-Null Count  Dtype  \n",
      "---  ------        --------------  -----  \n",
      " 0   Price         161 non-null    int64  \n",
      " 1   ppi           161 non-null    int64  \n",
      " 2   cpu core      161 non-null    int64  \n",
      " 3   cpu freq      161 non-null    float64\n",
      " 4   internal mem  161 non-null    float64\n",
      " 5   ram           161 non-null    float64\n",
      " 6   RearCam       161 non-null    float64\n",
      " 7   Front_Cam     161 non-null    float64\n",
      " 8   thickness     161 non-null    float64\n",
      "dtypes: float64(6), int64(3)\n",
      "memory usage: 11.4 KB\n"
     ]
    }
   ],
   "source": [
    "df.info()"
   ]
  },
  {
   "cell_type": "markdown",
   "metadata": {},
   "source": [
    "# Univariate Analysis"
   ]
  },
  {
   "cell_type": "code",
   "execution_count": 54,
   "metadata": {},
   "outputs": [
    {
     "data": {
      "text/html": [
       "<div>\n",
       "<style scoped>\n",
       "    .dataframe tbody tr th:only-of-type {\n",
       "        vertical-align: middle;\n",
       "    }\n",
       "\n",
       "    .dataframe tbody tr th {\n",
       "        vertical-align: top;\n",
       "    }\n",
       "\n",
       "    .dataframe thead th {\n",
       "        text-align: right;\n",
       "    }\n",
       "</style>\n",
       "<table border=\"1\" class=\"dataframe\">\n",
       "  <thead>\n",
       "    <tr style=\"text-align: right;\">\n",
       "      <th></th>\n",
       "      <th>Price</th>\n",
       "      <th>ppi</th>\n",
       "      <th>cpu core</th>\n",
       "      <th>cpu freq</th>\n",
       "      <th>internal mem</th>\n",
       "      <th>ram</th>\n",
       "      <th>RearCam</th>\n",
       "      <th>Front_Cam</th>\n",
       "      <th>thickness</th>\n",
       "    </tr>\n",
       "  </thead>\n",
       "  <tbody>\n",
       "    <tr>\n",
       "      <th>count</th>\n",
       "      <td>161.000000</td>\n",
       "      <td>161.000000</td>\n",
       "      <td>161.000000</td>\n",
       "      <td>161.000000</td>\n",
       "      <td>161.000000</td>\n",
       "      <td>161.000000</td>\n",
       "      <td>161.000000</td>\n",
       "      <td>161.000000</td>\n",
       "      <td>161.000000</td>\n",
       "    </tr>\n",
       "    <tr>\n",
       "      <th>mean</th>\n",
       "      <td>2215.596273</td>\n",
       "      <td>335.055901</td>\n",
       "      <td>4.857143</td>\n",
       "      <td>1.502832</td>\n",
       "      <td>24.501714</td>\n",
       "      <td>2.204994</td>\n",
       "      <td>10.378261</td>\n",
       "      <td>4.503106</td>\n",
       "      <td>8.921739</td>\n",
       "    </tr>\n",
       "    <tr>\n",
       "      <th>std</th>\n",
       "      <td>768.187171</td>\n",
       "      <td>134.826659</td>\n",
       "      <td>2.444016</td>\n",
       "      <td>0.599783</td>\n",
       "      <td>28.804773</td>\n",
       "      <td>1.609831</td>\n",
       "      <td>6.181585</td>\n",
       "      <td>4.342053</td>\n",
       "      <td>2.192564</td>\n",
       "    </tr>\n",
       "    <tr>\n",
       "      <th>min</th>\n",
       "      <td>614.000000</td>\n",
       "      <td>121.000000</td>\n",
       "      <td>0.000000</td>\n",
       "      <td>0.000000</td>\n",
       "      <td>0.000000</td>\n",
       "      <td>0.000000</td>\n",
       "      <td>0.000000</td>\n",
       "      <td>0.000000</td>\n",
       "      <td>5.100000</td>\n",
       "    </tr>\n",
       "    <tr>\n",
       "      <th>25%</th>\n",
       "      <td>1734.000000</td>\n",
       "      <td>233.000000</td>\n",
       "      <td>4.000000</td>\n",
       "      <td>1.200000</td>\n",
       "      <td>8.000000</td>\n",
       "      <td>1.000000</td>\n",
       "      <td>5.000000</td>\n",
       "      <td>0.000000</td>\n",
       "      <td>7.600000</td>\n",
       "    </tr>\n",
       "    <tr>\n",
       "      <th>50%</th>\n",
       "      <td>2258.000000</td>\n",
       "      <td>294.000000</td>\n",
       "      <td>4.000000</td>\n",
       "      <td>1.400000</td>\n",
       "      <td>16.000000</td>\n",
       "      <td>2.000000</td>\n",
       "      <td>12.000000</td>\n",
       "      <td>5.000000</td>\n",
       "      <td>8.400000</td>\n",
       "    </tr>\n",
       "    <tr>\n",
       "      <th>75%</th>\n",
       "      <td>2744.000000</td>\n",
       "      <td>428.000000</td>\n",
       "      <td>8.000000</td>\n",
       "      <td>1.875000</td>\n",
       "      <td>32.000000</td>\n",
       "      <td>3.000000</td>\n",
       "      <td>16.000000</td>\n",
       "      <td>8.000000</td>\n",
       "      <td>9.800000</td>\n",
       "    </tr>\n",
       "    <tr>\n",
       "      <th>max</th>\n",
       "      <td>4361.000000</td>\n",
       "      <td>806.000000</td>\n",
       "      <td>8.000000</td>\n",
       "      <td>2.700000</td>\n",
       "      <td>128.000000</td>\n",
       "      <td>6.000000</td>\n",
       "      <td>23.000000</td>\n",
       "      <td>20.000000</td>\n",
       "      <td>18.500000</td>\n",
       "    </tr>\n",
       "  </tbody>\n",
       "</table>\n",
       "</div>"
      ],
      "text/plain": [
       "             Price         ppi    cpu core    cpu freq  internal mem  \\\n",
       "count   161.000000  161.000000  161.000000  161.000000    161.000000   \n",
       "mean   2215.596273  335.055901    4.857143    1.502832     24.501714   \n",
       "std     768.187171  134.826659    2.444016    0.599783     28.804773   \n",
       "min     614.000000  121.000000    0.000000    0.000000      0.000000   \n",
       "25%    1734.000000  233.000000    4.000000    1.200000      8.000000   \n",
       "50%    2258.000000  294.000000    4.000000    1.400000     16.000000   \n",
       "75%    2744.000000  428.000000    8.000000    1.875000     32.000000   \n",
       "max    4361.000000  806.000000    8.000000    2.700000    128.000000   \n",
       "\n",
       "              ram     RearCam   Front_Cam   thickness  \n",
       "count  161.000000  161.000000  161.000000  161.000000  \n",
       "mean     2.204994   10.378261    4.503106    8.921739  \n",
       "std      1.609831    6.181585    4.342053    2.192564  \n",
       "min      0.000000    0.000000    0.000000    5.100000  \n",
       "25%      1.000000    5.000000    0.000000    7.600000  \n",
       "50%      2.000000   12.000000    5.000000    8.400000  \n",
       "75%      3.000000   16.000000    8.000000    9.800000  \n",
       "max      6.000000   23.000000   20.000000   18.500000  "
      ]
     },
     "execution_count": 54,
     "metadata": {},
     "output_type": "execute_result"
    }
   ],
   "source": [
    "# Let's look at some statistical information about our dataframe.\n",
    "df.describe()"
   ]
  },
  {
   "cell_type": "markdown",
   "metadata": {},
   "source": [
    "# BOX PLOT"
   ]
  },
  {
   "cell_type": "code",
   "execution_count": 55,
   "metadata": {
    "scrolled": true
   },
   "outputs": [
    {
     "data": {
      "text/plain": [
       "<AxesSubplot:>"
      ]
     },
     "execution_count": 55,
     "metadata": {},
     "output_type": "execute_result"
    },
    {
     "data": {
      "image/png": "[encoded data removed]",
      "text/plain": [
       "<Figure size 1080x504 with 1 Axes>"
      ]
     },
     "metadata": {
      "needs_background": "light"
     },
     "output_type": "display_data"
    }
   ],
   "source": [
    "fig, ax = plt.subplots(figsize=[15,7])\n",
    "sns.boxplot(data=df,ax=ax)\n"
   ]
  },
  {
   "cell_type": "markdown",
   "metadata": {},
   "source": [
    "# Bi-Variate Analysis"
   ]
  },
  {
   "cell_type": "markdown",
   "metadata": {},
   "source": [
    "# Correlation Matrix"
   ]
  },
  {
   "cell_type": "code",
   "execution_count": 56,
   "metadata": {},
   "outputs": [
    {
     "data": {
      "text/html": [
       "<div>\n",
       "<style scoped>\n",
       "    .dataframe tbody tr th:only-of-type {\n",
       "        vertical-align: middle;\n",
       "    }\n",
       "\n",
       "    .dataframe tbody tr th {\n",
       "        vertical-align: top;\n",
       "    }\n",
       "\n",
       "    .dataframe thead th {\n",
       "        text-align: right;\n",
       "    }\n",
       "</style>\n",
       "<table border=\"1\" class=\"dataframe\">\n",
       "  <thead>\n",
       "    <tr style=\"text-align: right;\">\n",
       "      <th></th>\n",
       "      <th>Price</th>\n",
       "      <th>ppi</th>\n",
       "      <th>cpu core</th>\n",
       "      <th>cpu freq</th>\n",
       "      <th>internal mem</th>\n",
       "      <th>ram</th>\n",
       "      <th>RearCam</th>\n",
       "      <th>Front_Cam</th>\n",
       "      <th>thickness</th>\n",
       "    </tr>\n",
       "  </thead>\n",
       "  <tbody>\n",
       "    <tr>\n",
       "      <th>Price</th>\n",
       "      <td>1.000000</td>\n",
       "      <td>0.817614</td>\n",
       "      <td>0.686811</td>\n",
       "      <td>0.727383</td>\n",
       "      <td>0.776738</td>\n",
       "      <td>0.896915</td>\n",
       "      <td>0.739538</td>\n",
       "      <td>0.675286</td>\n",
       "      <td>-0.716773</td>\n",
       "    </tr>\n",
       "    <tr>\n",
       "      <th>ppi</th>\n",
       "      <td>0.817614</td>\n",
       "      <td>1.000000</td>\n",
       "      <td>0.487990</td>\n",
       "      <td>0.713168</td>\n",
       "      <td>0.618560</td>\n",
       "      <td>0.748724</td>\n",
       "      <td>0.774008</td>\n",
       "      <td>0.491371</td>\n",
       "      <td>-0.496791</td>\n",
       "    </tr>\n",
       "    <tr>\n",
       "      <th>cpu core</th>\n",
       "      <td>0.686811</td>\n",
       "      <td>0.487990</td>\n",
       "      <td>1.000000</td>\n",
       "      <td>0.491519</td>\n",
       "      <td>0.276251</td>\n",
       "      <td>0.483128</td>\n",
       "      <td>0.611353</td>\n",
       "      <td>0.586698</td>\n",
       "      <td>-0.697935</td>\n",
       "    </tr>\n",
       "    <tr>\n",
       "      <th>cpu freq</th>\n",
       "      <td>0.727383</td>\n",
       "      <td>0.713168</td>\n",
       "      <td>0.491519</td>\n",
       "      <td>1.000000</td>\n",
       "      <td>0.441400</td>\n",
       "      <td>0.633547</td>\n",
       "      <td>0.625104</td>\n",
       "      <td>0.358319</td>\n",
       "      <td>-0.614458</td>\n",
       "    </tr>\n",
       "    <tr>\n",
       "      <th>internal mem</th>\n",
       "      <td>0.776738</td>\n",
       "      <td>0.618560</td>\n",
       "      <td>0.276251</td>\n",
       "      <td>0.441400</td>\n",
       "      <td>1.000000</td>\n",
       "      <td>0.875354</td>\n",
       "      <td>0.451917</td>\n",
       "      <td>0.555733</td>\n",
       "      <td>-0.367412</td>\n",
       "    </tr>\n",
       "    <tr>\n",
       "      <th>ram</th>\n",
       "      <td>0.896915</td>\n",
       "      <td>0.748724</td>\n",
       "      <td>0.483128</td>\n",
       "      <td>0.633547</td>\n",
       "      <td>0.875354</td>\n",
       "      <td>1.000000</td>\n",
       "      <td>0.648073</td>\n",
       "      <td>0.647470</td>\n",
       "      <td>-0.521074</td>\n",
       "    </tr>\n",
       "    <tr>\n",
       "      <th>RearCam</th>\n",
       "      <td>0.739538</td>\n",
       "      <td>0.774008</td>\n",
       "      <td>0.611353</td>\n",
       "      <td>0.625104</td>\n",
       "      <td>0.451917</td>\n",
       "      <td>0.648073</td>\n",
       "      <td>1.000000</td>\n",
       "      <td>0.596374</td>\n",
       "      <td>-0.550998</td>\n",
       "    </tr>\n",
       "    <tr>\n",
       "      <th>Front_Cam</th>\n",
       "      <td>0.675286</td>\n",
       "      <td>0.491371</td>\n",
       "      <td>0.586698</td>\n",
       "      <td>0.358319</td>\n",
       "      <td>0.555733</td>\n",
       "      <td>0.647470</td>\n",
       "      <td>0.596374</td>\n",
       "      <td>1.000000</td>\n",
       "      <td>-0.493542</td>\n",
       "    </tr>\n",
       "    <tr>\n",
       "      <th>thickness</th>\n",
       "      <td>-0.716773</td>\n",
       "      <td>-0.496791</td>\n",
       "      <td>-0.697935</td>\n",
       "      <td>-0.614458</td>\n",
       "      <td>-0.367412</td>\n",
       "      <td>-0.521074</td>\n",
       "      <td>-0.550998</td>\n",
       "      <td>-0.493542</td>\n",
       "      <td>1.000000</td>\n",
       "    </tr>\n",
       "  </tbody>\n",
       "</table>\n",
       "</div>"
      ],
      "text/plain": [
       "                 Price       ppi  cpu core  cpu freq  internal mem       ram  \\\n",
       "Price         1.000000  0.817614  0.686811  0.727383      0.776738  0.896915   \n",
       "ppi           0.817614  1.000000  0.487990  0.713168      0.618560  0.748724   \n",
       "cpu core      0.686811  0.487990  1.000000  0.491519      0.276251  0.483128   \n",
       "cpu freq      0.727383  0.713168  0.491519  1.000000      0.441400  0.633547   \n",
       "internal mem  0.776738  0.618560  0.276251  0.441400      1.000000  0.875354   \n",
       "ram           0.896915  0.748724  0.483128  0.633547      0.875354  1.000000   \n",
       "RearCam       0.739538  0.774008  0.611353  0.625104      0.451917  0.648073   \n",
       "Front_Cam     0.675286  0.491371  0.586698  0.358319      0.555733  0.647470   \n",
       "thickness    -0.716773 -0.496791 -0.697935 -0.614458     -0.367412 -0.521074   \n",
       "\n",
       "               RearCam  Front_Cam  thickness  \n",
       "Price         0.739538   0.675286  -0.716773  \n",
       "ppi           0.774008   0.491371  -0.496791  \n",
       "cpu core      0.611353   0.586698  -0.697935  \n",
       "cpu freq      0.625104   0.358319  -0.614458  \n",
       "internal mem  0.451917   0.555733  -0.367412  \n",
       "ram           0.648073   0.647470  -0.521074  \n",
       "RearCam       1.000000   0.596374  -0.550998  \n",
       "Front_Cam     0.596374   1.000000  -0.493542  \n",
       "thickness    -0.550998  -0.493542   1.000000  "
      ]
     },
     "execution_count": 56,
     "metadata": {},
     "output_type": "execute_result"
    }
   ],
   "source": [
    "df.corr()"
   ]
  },
  {
   "cell_type": "code",
   "execution_count": 57,
   "metadata": {
    "scrolled": true
   },
   "outputs": [
    {
     "data": {
      "text/plain": [
       "<AxesSubplot:>"
      ]
     },
     "execution_count": 57,
     "metadata": {},
     "output_type": "execute_result"
    },
    {
     "data": {
      "image/png": "[encoded data removed]",
      "text/plain": [
       "<Figure size 1080x504 with 2 Axes>"
      ]
     },
     "metadata": {
      "needs_background": "light"
     },
     "output_type": "display_data"
    }
   ],
   "source": [
    "import matplotlib.pyplot as plt\n",
    "import seaborn as sns\n",
    "%matplotlib inline\n",
    "fig, ax = plt.subplots(figsize=[15,7])\n",
    "sns.heatmap(df.corr(),annot = True, ax=ax)"
   ]
  },
  {
   "cell_type": "markdown",
   "metadata": {},
   "source": [
    "# Create total plot"
   ]
  },
  {
   "cell_type": "code",
   "execution_count": 58,
   "metadata": {},
   "outputs": [
    {
     "data": {
      "text/plain": [
       "<seaborn.axisgrid.PairGrid at 0x16935223dc0>"
      ]
     },
     "execution_count": 58,
     "metadata": {},
     "output_type": "execute_result"
    },
    {
     "data": {
      "image/png": "[encoded data removed]",
      "text/plain": [
       "<Figure size 1440x180 with 8 Axes>"
      ]
     },
     "metadata": {
      "needs_background": "light"
     },
     "output_type": "display_data"
    }
   ],
   "source": [
    "sns.pairplot(df,x_vars=[\"ppi\",\"cpu core\",\"cpu freq\",\"internal mem\",\"ram\",\"RearCam\",\"Front_Cam\",\"thickness\"],y_vars=\"Price\", kind='reg')"
   ]
  },
  {
   "cell_type": "markdown",
   "metadata": {},
   "source": [
    "# create X and y"
   ]
  },
  {
   "cell_type": "code",
   "execution_count": 59,
   "metadata": {},
   "outputs": [],
   "source": [
    "X = df[['ppi', 'cpu core', 'cpu freq','internal mem','ram','RearCam','Front_Cam','thickness']]\n",
    "Y = df['Price']"
   ]
  },
  {
   "cell_type": "markdown",
   "metadata": {},
   "source": [
    "# Collinearity Check using VIF"
   ]
  },
  {
   "cell_type": "code",
   "execution_count": 60,
   "metadata": {
    "scrolled": true
   },
   "outputs": [
    {
     "data": {
      "text/html": [
       "<div>\n",
       "<style scoped>\n",
       "    .dataframe tbody tr th:only-of-type {\n",
       "        vertical-align: middle;\n",
       "    }\n",
       "\n",
       "    .dataframe tbody tr th {\n",
       "        vertical-align: top;\n",
       "    }\n",
       "\n",
       "    .dataframe thead th {\n",
       "        text-align: right;\n",
       "    }\n",
       "</style>\n",
       "<table border=\"1\" class=\"dataframe\">\n",
       "  <thead>\n",
       "    <tr style=\"text-align: right;\">\n",
       "      <th></th>\n",
       "      <th>features</th>\n",
       "      <th>VIF Factor</th>\n",
       "    </tr>\n",
       "  </thead>\n",
       "  <tbody>\n",
       "    <tr>\n",
       "      <th>0</th>\n",
       "      <td>ppi</td>\n",
       "      <td>29.14</td>\n",
       "    </tr>\n",
       "    <tr>\n",
       "      <th>1</th>\n",
       "      <td>cpu core</td>\n",
       "      <td>9.40</td>\n",
       "    </tr>\n",
       "    <tr>\n",
       "      <th>2</th>\n",
       "      <td>cpu freq</td>\n",
       "      <td>16.60</td>\n",
       "    </tr>\n",
       "    <tr>\n",
       "      <th>3</th>\n",
       "      <td>internal mem</td>\n",
       "      <td>9.43</td>\n",
       "    </tr>\n",
       "    <tr>\n",
       "      <th>4</th>\n",
       "      <td>ram</td>\n",
       "      <td>24.07</td>\n",
       "    </tr>\n",
       "    <tr>\n",
       "      <th>5</th>\n",
       "      <td>RearCam</td>\n",
       "      <td>13.18</td>\n",
       "    </tr>\n",
       "    <tr>\n",
       "      <th>6</th>\n",
       "      <td>Front_Cam</td>\n",
       "      <td>4.94</td>\n",
       "    </tr>\n",
       "    <tr>\n",
       "      <th>7</th>\n",
       "      <td>thickness</td>\n",
       "      <td>4.82</td>\n",
       "    </tr>\n",
       "  </tbody>\n",
       "</table>\n",
       "</div>"
      ],
      "text/plain": [
       "       features  VIF Factor\n",
       "0           ppi       29.14\n",
       "1      cpu core        9.40\n",
       "2      cpu freq       16.60\n",
       "3  internal mem        9.43\n",
       "4           ram       24.07\n",
       "5       RearCam       13.18\n",
       "6     Front_Cam        4.94\n",
       "7     thickness        4.82"
      ]
     },
     "execution_count": 60,
     "metadata": {},
     "output_type": "execute_result"
    }
   ],
   "source": [
    "from statsmodels.stats.outliers_influence import variance_inflation_factor as vif\n",
    "\n",
    "vif_df = pd.DataFrame()\n",
    "vif_df[\"features\"] = X.columns\n",
    "vif_df[\"VIF Factor\"] = [vif(X.values, i) for i in range(X.shape[1])]\n",
    "vif_df.round(2)"
   ]
  },
  {
   "cell_type": "markdown",
   "metadata": {},
   "source": [
    "# Checking Skewness"
   ]
  },
  {
   "cell_type": "code",
   "execution_count": 61,
   "metadata": {},
   "outputs": [
    {
     "data": {
      "text/plain": [
       "array([[<AxesSubplot:title={'center':'ppi'}>,\n",
       "        <AxesSubplot:title={'center':'cpu core'}>,\n",
       "        <AxesSubplot:title={'center':'cpu freq'}>],\n",
       "       [<AxesSubplot:title={'center':'internal mem'}>,\n",
       "        <AxesSubplot:title={'center':'ram'}>,\n",
       "        <AxesSubplot:title={'center':'RearCam'}>],\n",
       "       [<AxesSubplot:title={'center':'Front_Cam'}>,\n",
       "        <AxesSubplot:title={'center':'thickness'}>, <AxesSubplot:>]],\n",
       "      dtype=object)"
      ]
     },
     "execution_count": 61,
     "metadata": {},
     "output_type": "execute_result"
    },
    {
     "data": {
      "image/png": "[encoded data removed]",
      "text/plain": [
       "<Figure size 432x288 with 9 Axes>"
      ]
     },
     "metadata": {
      "needs_background": "light"
     },
     "output_type": "display_data"
    }
   ],
   "source": [
    "# By plotting method\n",
    "\n",
    "X.hist(bins=20)"
   ]
  },
  {
   "cell_type": "markdown",
   "metadata": {},
   "source": []
  },
  {
   "cell_type": "code",
   "execution_count": 62,
   "metadata": {},
   "outputs": [
    {
     "name": "stdout",
     "output_type": "stream",
     "text": [
      "ppi             0.596875\n",
      "cpu core       -0.008992\n",
      "cpu freq       -0.507874\n",
      "internal mem    2.367361\n",
      "ram             0.785293\n",
      "RearCam         0.105930\n",
      "Front_Cam       1.158823\n",
      "thickness       1.572849\n",
      "dtype: float64\n",
      "internal mem    2.367361\n",
      "ram             0.785293\n",
      "Front_Cam       1.158823\n",
      "thickness       1.572849\n",
      "dtype: float64\n"
     ]
    }
   ],
   "source": [
    "# Calculate Skewness value\n",
    "\n",
    "from scipy.stats import skew\n",
    "data_num_skew = X.apply(lambda x: skew(x.dropna()))\n",
    "data_num_skewed = data_num_skew[(data_num_skew > .75) | (data_num_skew < -.75)]\n",
    "\n",
    "print(data_num_skew)\n",
    "print(data_num_skewed)"
   ]
  },
  {
   "cell_type": "markdown",
   "metadata": {},
   "source": [
    "# Outlier Treatment"
   ]
  },
  {
   "cell_type": "code",
   "execution_count": 63,
   "metadata": {},
   "outputs": [
    {
     "data": {
      "text/plain": [
       "(1734.0, 2744.0, 1010.0, 219.0, 4259.0)"
      ]
     },
     "execution_count": 63,
     "metadata": {},
     "output_type": "execute_result"
    }
   ],
   "source": [
    "q1 = df['Price'].quantile(0.25)\n",
    "q3 = df['Price'].quantile(0.75)\n",
    "iqr = q3-q1 #Interquartile range\n",
    "low  = q1-1.5*iqr #acceptable range\n",
    "high = q3+1.5*iqr #acceptable range\n",
    "q1,q3,iqr,low,high"
   ]
  },
  {
   "cell_type": "code",
   "execution_count": 64,
   "metadata": {},
   "outputs": [],
   "source": [
    "df['Price']=np.where(df['Price'] > high,high,df['Price']) # upper limit"
   ]
  },
  {
   "cell_type": "code",
   "execution_count": 73,
   "metadata": {},
   "outputs": [
    {
     "data": {
      "text/plain": [
       "<AxesSubplot:>"
      ]
     },
     "execution_count": 73,
     "metadata": {},
     "output_type": "execute_result"
    },
    {
     "data": {
      "image/png": "[encoded data removed]",
      "text/plain": [
       "<Figure size 1080x504 with 1 Axes>"
      ]
     },
     "metadata": {
      "needs_background": "light"
     },
     "output_type": "display_data"
    }
   ],
   "source": [
    "fig, ax = plt.subplots(figsize=[15,7])\n",
    "sns.boxplot(data=df,ax=ax)\n"
   ]
  },
  {
   "cell_type": "code",
   "execution_count": 68,
   "metadata": {},
   "outputs": [],
   "source": [
    "q1 = df['ppi'].quantile(0.25)\n",
    "q3 = df['ppi'].quantile(0.75)\n",
    "iqr = q3-q1 #Interquartile range\n",
    "low  = q1-1.5*iqr #acceptable range\n",
    "high = q3+1.5*iqr #acceptable range\n"
   ]
  },
  {
   "cell_type": "code",
   "execution_count": 67,
   "metadata": {},
   "outputs": [
    {
     "data": {
      "text/plain": [
       "(233.0, 428.0, 195.0, -59.5, 720.5)"
      ]
     },
     "execution_count": 67,
     "metadata": {},
     "output_type": "execute_result"
    }
   ],
   "source": [
    "q1,q3,iqr,low,high"
   ]
  },
  {
   "cell_type": "code",
   "execution_count": 71,
   "metadata": {},
   "outputs": [],
   "source": [
    "df['Price']=np.where(df['ppi'] > high,high,df['ppi']) # upper limit"
   ]
  },
  {
   "cell_type": "code",
   "execution_count": 74,
   "metadata": {},
   "outputs": [
    {
     "data": {
      "text/plain": [
       "<AxesSubplot:>"
      ]
     },
     "execution_count": 74,
     "metadata": {},
     "output_type": "execute_result"
    },
    {
     "data": {
      "image/png": "[encoded data removed]",
      "text/plain": [
       "<Figure size 1080x504 with 1 Axes>"
      ]
     },
     "metadata": {
      "needs_background": "light"
     },
     "output_type": "display_data"
    }
   ],
   "source": [
    "fig, ax = plt.subplots(figsize=[15,7])\n",
    "sns.boxplot(data=df,ax=ax)"
   ]
  },
  {
   "cell_type": "code",
   "execution_count": 79,
   "metadata": {},
   "outputs": [],
   "source": [
    "q1 = df['internal mem'].quantile(0.25)\n",
    "q3 = df['internal mem'].quantile(0.75)\n",
    "iqr = q3-q1 #Interquartile range\n",
    "low  = q1-1.5*iqr #acceptable range\n",
    "high = q3+1.5*iqr #acceptable range\n"
   ]
  },
  {
   "cell_type": "code",
   "execution_count": 80,
   "metadata": {},
   "outputs": [
    {
     "data": {
      "text/plain": [
       "(8.0, 32.0, 24.0, -28.0, 68.0)"
      ]
     },
     "execution_count": 80,
     "metadata": {},
     "output_type": "execute_result"
    }
   ],
   "source": [
    "q1,q3,iqr,low,high"
   ]
  },
  {
   "cell_type": "code",
   "execution_count": 82,
   "metadata": {},
   "outputs": [],
   "source": [
    "df['internal mem']=np.where(df['internal mem'] > high,high,df['internal mem']) # upper limit"
   ]
  },
  {
   "cell_type": "code",
   "execution_count": 83,
   "metadata": {},
   "outputs": [
    {
     "data": {
      "text/plain": [
       "<AxesSubplot:>"
      ]
     },
     "execution_count": 83,
     "metadata": {},
     "output_type": "execute_result"
    },
    {
     "data": {
      "image/png": "[encoded data removed]",
      "text/plain": [
       "<Figure size 1080x504 with 1 Axes>"
      ]
     },
     "metadata": {
      "needs_background": "light"
     },
     "output_type": "display_data"
    }
   ],
   "source": [
    "fig, ax = plt.subplots(figsize=[15,7])\n",
    "sns.boxplot(data=df,ax=ax)"
   ]
  },
  {
   "cell_type": "markdown",
   "metadata": {},
   "source": [
    "# Step 3 : Splitting the data in Training and Test set\n",
    "* Using sklearn we split 70% of our data into training set and rest in test set.\n",
    "* Setting random_state will give the same training and test set everytime on running the code"
   ]
  },
  {
   "cell_type": "code",
   "execution_count": 102,
   "metadata": {},
   "outputs": [],
   "source": [
    "# Putting feature variable to X\n",
    "X = df.drop('Price', axis= 1)\n",
    "\n",
    "# Putting response variable to y\n",
    "y = df['Price']"
   ]
  },
  {
   "cell_type": "code",
   "execution_count": 103,
   "metadata": {},
   "outputs": [],
   "source": [
    "#random_state is the seed used by the random number generator. It can be any integer.\n",
    "from sklearn.model_selection import train_test_split\n",
    "X_train, X_test, y_train, y_test = train_test_split(X, y, train_size=0.7 , random_state=100)"
   ]
  },
  {
   "cell_type": "code",
   "execution_count": 104,
   "metadata": {},
   "outputs": [
    {
     "data": {
      "text/plain": [
       "Index(['Price', 'ppi', 'cpu_core', 'cpu_freq', 'internal_mem', 'ram',\n",
       "       'RearCam', 'Front_Cam', 'thickness'],\n",
       "      dtype='object')"
      ]
     },
     "execution_count": 104,
     "metadata": {},
     "output_type": "execute_result"
    }
   ],
   "source": [
    "df = pd.concat([y_train, X_train], axis=1)\n",
    "df.columns"
   ]
  },
  {
   "cell_type": "markdown",
   "metadata": {},
   "source": [
    "# Train Model Building"
   ]
  },
  {
   "cell_type": "code",
   "execution_count": 105,
   "metadata": {},
   "outputs": [
    {
     "data": {
      "text/html": [
       "<table class=\"simpletable\">\n",
       "<caption>OLS Regression Results</caption>\n",
       "<tr>\n",
       "  <th>Dep. Variable:</th>          <td>Price</td>      <th>  R-squared:         </th> <td>   0.946</td>\n",
       "</tr>\n",
       "<tr>\n",
       "  <th>Model:</th>                   <td>OLS</td>       <th>  Adj. R-squared:    </th> <td>   0.942</td>\n",
       "</tr>\n",
       "<tr>\n",
       "  <th>Method:</th>             <td>Least Squares</td>  <th>  F-statistic:       </th> <td>   227.2</td>\n",
       "</tr>\n",
       "<tr>\n",
       "  <th>Date:</th>             <td>Sat, 15 Apr 2023</td> <th>  Prob (F-statistic):</th> <td>7.87e-62</td>\n",
       "</tr>\n",
       "<tr>\n",
       "  <th>Time:</th>                 <td>14:16:59</td>     <th>  Log-Likelihood:    </th> <td> -739.89</td>\n",
       "</tr>\n",
       "<tr>\n",
       "  <th>No. Observations:</th>      <td>   112</td>      <th>  AIC:               </th> <td>   1498.</td>\n",
       "</tr>\n",
       "<tr>\n",
       "  <th>Df Residuals:</th>          <td>   103</td>      <th>  BIC:               </th> <td>   1522.</td>\n",
       "</tr>\n",
       "<tr>\n",
       "  <th>Df Model:</th>              <td>     8</td>      <th>                     </th>     <td> </td>   \n",
       "</tr>\n",
       "<tr>\n",
       "  <th>Covariance Type:</th>      <td>nonrobust</td>    <th>                     </th>     <td> </td>   \n",
       "</tr>\n",
       "</table>\n",
       "<table class=\"simpletable\">\n",
       "<tr>\n",
       "        <td></td>          <th>coef</th>     <th>std err</th>      <th>t</th>      <th>P>|t|</th>  <th>[0.025</th>    <th>0.975]</th>  \n",
       "</tr>\n",
       "<tr>\n",
       "  <th>Intercept</th>    <td> 1556.7236</td> <td>  174.572</td> <td>    8.917</td> <td> 0.000</td> <td> 1210.501</td> <td> 1902.946</td>\n",
       "</tr>\n",
       "<tr>\n",
       "  <th>ppi</th>          <td>    1.1790</td> <td>    0.279</td> <td>    4.229</td> <td> 0.000</td> <td>    0.626</td> <td>    1.732</td>\n",
       "</tr>\n",
       "<tr>\n",
       "  <th>cpu_core</th>     <td>   61.9778</td> <td>   12.203</td> <td>    5.079</td> <td> 0.000</td> <td>   37.777</td> <td>   86.179</td>\n",
       "</tr>\n",
       "<tr>\n",
       "  <th>cpu_freq</th>     <td>   94.9167</td> <td>   48.160</td> <td>    1.971</td> <td> 0.051</td> <td>   -0.598</td> <td>  190.432</td>\n",
       "</tr>\n",
       "<tr>\n",
       "  <th>internal_mem</th> <td>    7.0565</td> <td>    1.372</td> <td>    5.144</td> <td> 0.000</td> <td>    4.336</td> <td>    9.777</td>\n",
       "</tr>\n",
       "<tr>\n",
       "  <th>ram</th>          <td>  132.1976</td> <td>   30.655</td> <td>    4.312</td> <td> 0.000</td> <td>   71.401</td> <td>  192.994</td>\n",
       "</tr>\n",
       "<tr>\n",
       "  <th>RearCam</th>      <td>   -0.8551</td> <td>    5.391</td> <td>   -0.159</td> <td> 0.874</td> <td>  -11.548</td> <td>    9.838</td>\n",
       "</tr>\n",
       "<tr>\n",
       "  <th>Front_Cam</th>    <td>    1.6776</td> <td>    6.621</td> <td>    0.253</td> <td> 0.800</td> <td>  -11.454</td> <td>   14.809</td>\n",
       "</tr>\n",
       "<tr>\n",
       "  <th>thickness</th>    <td>  -72.5204</td> <td>   13.171</td> <td>   -5.506</td> <td> 0.000</td> <td>  -98.642</td> <td>  -46.398</td>\n",
       "</tr>\n",
       "</table>\n",
       "<table class=\"simpletable\">\n",
       "<tr>\n",
       "  <th>Omnibus:</th>       <td> 0.218</td> <th>  Durbin-Watson:     </th> <td>   1.813</td>\n",
       "</tr>\n",
       "<tr>\n",
       "  <th>Prob(Omnibus):</th> <td> 0.897</td> <th>  Jarque-Bera (JB):  </th> <td>   0.189</td>\n",
       "</tr>\n",
       "<tr>\n",
       "  <th>Skew:</th>          <td> 0.096</td> <th>  Prob(JB):          </th> <td>   0.910</td>\n",
       "</tr>\n",
       "<tr>\n",
       "  <th>Kurtosis:</th>      <td> 2.939</td> <th>  Cond. No.          </th> <td>3.73e+03</td>\n",
       "</tr>\n",
       "</table><br/><br/>Notes:<br/>[1] Standard Errors assume that the covariance matrix of the errors is correctly specified.<br/>[2] The condition number is large, 3.73e+03. This might indicate that there are<br/>strong multicollinearity or other numerical problems."
      ],
      "text/plain": [
       "<class 'statsmodels.iolib.summary.Summary'>\n",
       "\"\"\"\n",
       "                            OLS Regression Results                            \n",
       "==============================================================================\n",
       "Dep. Variable:                  Price   R-squared:                       0.946\n",
       "Model:                            OLS   Adj. R-squared:                  0.942\n",
       "Method:                 Least Squares   F-statistic:                     227.2\n",
       "Date:                Sat, 15 Apr 2023   Prob (F-statistic):           7.87e-62\n",
       "Time:                        14:16:59   Log-Likelihood:                -739.89\n",
       "No. Observations:                 112   AIC:                             1498.\n",
       "Df Residuals:                     103   BIC:                             1522.\n",
       "Df Model:                           8                                         \n",
       "Covariance Type:            nonrobust                                         \n",
       "================================================================================\n",
       "                   coef    std err          t      P>|t|      [0.025      0.975]\n",
       "--------------------------------------------------------------------------------\n",
       "Intercept     1556.7236    174.572      8.917      0.000    1210.501    1902.946\n",
       "ppi              1.1790      0.279      4.229      0.000       0.626       1.732\n",
       "cpu_core        61.9778     12.203      5.079      0.000      37.777      86.179\n",
       "cpu_freq        94.9167     48.160      1.971      0.051      -0.598     190.432\n",
       "internal_mem     7.0565      1.372      5.144      0.000       4.336       9.777\n",
       "ram            132.1976     30.655      4.312      0.000      71.401     192.994\n",
       "RearCam         -0.8551      5.391     -0.159      0.874     -11.548       9.838\n",
       "Front_Cam        1.6776      6.621      0.253      0.800     -11.454      14.809\n",
       "thickness      -72.5204     13.171     -5.506      0.000     -98.642     -46.398\n",
       "==============================================================================\n",
       "Omnibus:                        0.218   Durbin-Watson:                   1.813\n",
       "Prob(Omnibus):                  0.897   Jarque-Bera (JB):                0.189\n",
       "Skew:                           0.096   Prob(JB):                        0.910\n",
       "Kurtosis:                       2.939   Cond. No.                     3.73e+03\n",
       "==============================================================================\n",
       "\n",
       "Notes:\n",
       "[1] Standard Errors assume that the covariance matrix of the errors is correctly specified.\n",
       "[2] The condition number is large, 3.73e+03. This might indicate that there are\n",
       "strong multicollinearity or other numerical problems.\n",
       "\"\"\""
      ]
     },
     "execution_count": 105,
     "metadata": {},
     "output_type": "execute_result"
    }
   ],
   "source": [
    "import statsmodels.formula.api as smf\n",
    "model=smf.ols('Price ~ ppi + cpu_core + cpu_freq + internal_mem + ram + RearCam + Front_Cam + thickness',data=df).fit()\n",
    "model.summary()"
   ]
  },
  {
   "cell_type": "code",
   "execution_count": 107,
   "metadata": {
    "scrolled": true
   },
   "outputs": [
    {
     "data": {
      "text/html": [
       "<table class=\"simpletable\">\n",
       "<caption>OLS Regression Results</caption>\n",
       "<tr>\n",
       "  <th>Dep. Variable:</th>          <td>Price</td>      <th>  R-squared:         </th> <td>   0.946</td>\n",
       "</tr>\n",
       "<tr>\n",
       "  <th>Model:</th>                   <td>OLS</td>       <th>  Adj. R-squared:    </th> <td>   0.943</td>\n",
       "</tr>\n",
       "<tr>\n",
       "  <th>Method:</th>             <td>Least Squares</td>  <th>  F-statistic:       </th> <td>   308.6</td>\n",
       "</tr>\n",
       "<tr>\n",
       "  <th>Date:</th>             <td>Sat, 15 Apr 2023</td> <th>  Prob (F-statistic):</th> <td>2.65e-64</td>\n",
       "</tr>\n",
       "<tr>\n",
       "  <th>Time:</th>                 <td>14:18:09</td>     <th>  Log-Likelihood:    </th> <td> -739.94</td>\n",
       "</tr>\n",
       "<tr>\n",
       "  <th>No. Observations:</th>      <td>   112</td>      <th>  AIC:               </th> <td>   1494.</td>\n",
       "</tr>\n",
       "<tr>\n",
       "  <th>Df Residuals:</th>          <td>   105</td>      <th>  BIC:               </th> <td>   1513.</td>\n",
       "</tr>\n",
       "<tr>\n",
       "  <th>Df Model:</th>              <td>     6</td>      <th>                     </th>     <td> </td>   \n",
       "</tr>\n",
       "<tr>\n",
       "  <th>Covariance Type:</th>      <td>nonrobust</td>    <th>                     </th>     <td> </td>   \n",
       "</tr>\n",
       "</table>\n",
       "<table class=\"simpletable\">\n",
       "<tr>\n",
       "        <td></td>          <th>coef</th>     <th>std err</th>      <th>t</th>      <th>P>|t|</th>  <th>[0.025</th>    <th>0.975]</th>  \n",
       "</tr>\n",
       "<tr>\n",
       "  <th>Intercept</th>    <td> 1561.8162</td> <td>  171.880</td> <td>    9.087</td> <td> 0.000</td> <td> 1221.011</td> <td> 1902.622</td>\n",
       "</tr>\n",
       "<tr>\n",
       "  <th>ppi</th>          <td>    1.1546</td> <td>    0.236</td> <td>    4.883</td> <td> 0.000</td> <td>    0.686</td> <td>    1.623</td>\n",
       "</tr>\n",
       "<tr>\n",
       "  <th>cpu_core</th>     <td>   62.7321</td> <td>   10.650</td> <td>    5.890</td> <td> 0.000</td> <td>   41.615</td> <td>   83.849</td>\n",
       "</tr>\n",
       "<tr>\n",
       "  <th>cpu_freq</th>     <td>   91.9370</td> <td>   46.465</td> <td>    1.979</td> <td> 0.050</td> <td>   -0.194</td> <td>  184.068</td>\n",
       "</tr>\n",
       "<tr>\n",
       "  <th>internal_mem</th> <td>    7.1262</td> <td>    1.330</td> <td>    5.358</td> <td> 0.000</td> <td>    4.489</td> <td>    9.763</td>\n",
       "</tr>\n",
       "<tr>\n",
       "  <th>ram</th>          <td>  133.4096</td> <td>   29.331</td> <td>    4.548</td> <td> 0.000</td> <td>   75.251</td> <td>  191.569</td>\n",
       "</tr>\n",
       "<tr>\n",
       "  <th>thickness</th>    <td>  -72.7274</td> <td>   13.010</td> <td>   -5.590</td> <td> 0.000</td> <td>  -98.525</td> <td>  -46.930</td>\n",
       "</tr>\n",
       "</table>\n",
       "<table class=\"simpletable\">\n",
       "<tr>\n",
       "  <th>Omnibus:</th>       <td> 0.168</td> <th>  Durbin-Watson:     </th> <td>   1.812</td>\n",
       "</tr>\n",
       "<tr>\n",
       "  <th>Prob(Omnibus):</th> <td> 0.919</td> <th>  Jarque-Bera (JB):  </th> <td>   0.142</td>\n",
       "</tr>\n",
       "<tr>\n",
       "  <th>Skew:</th>          <td> 0.082</td> <th>  Prob(JB):          </th> <td>   0.932</td>\n",
       "</tr>\n",
       "<tr>\n",
       "  <th>Kurtosis:</th>      <td> 2.941</td> <th>  Cond. No.          </th> <td>3.70e+03</td>\n",
       "</tr>\n",
       "</table><br/><br/>Notes:<br/>[1] Standard Errors assume that the covariance matrix of the errors is correctly specified.<br/>[2] The condition number is large, 3.7e+03. This might indicate that there are<br/>strong multicollinearity or other numerical problems."
      ],
      "text/plain": [
       "<class 'statsmodels.iolib.summary.Summary'>\n",
       "\"\"\"\n",
       "                            OLS Regression Results                            \n",
       "==============================================================================\n",
       "Dep. Variable:                  Price   R-squared:                       0.946\n",
       "Model:                            OLS   Adj. R-squared:                  0.943\n",
       "Method:                 Least Squares   F-statistic:                     308.6\n",
       "Date:                Sat, 15 Apr 2023   Prob (F-statistic):           2.65e-64\n",
       "Time:                        14:18:09   Log-Likelihood:                -739.94\n",
       "No. Observations:                 112   AIC:                             1494.\n",
       "Df Residuals:                     105   BIC:                             1513.\n",
       "Df Model:                           6                                         \n",
       "Covariance Type:            nonrobust                                         \n",
       "================================================================================\n",
       "                   coef    std err          t      P>|t|      [0.025      0.975]\n",
       "--------------------------------------------------------------------------------\n",
       "Intercept     1561.8162    171.880      9.087      0.000    1221.011    1902.622\n",
       "ppi              1.1546      0.236      4.883      0.000       0.686       1.623\n",
       "cpu_core        62.7321     10.650      5.890      0.000      41.615      83.849\n",
       "cpu_freq        91.9370     46.465      1.979      0.050      -0.194     184.068\n",
       "internal_mem     7.1262      1.330      5.358      0.000       4.489       9.763\n",
       "ram            133.4096     29.331      4.548      0.000      75.251     191.569\n",
       "thickness      -72.7274     13.010     -5.590      0.000     -98.525     -46.930\n",
       "==============================================================================\n",
       "Omnibus:                        0.168   Durbin-Watson:                   1.812\n",
       "Prob(Omnibus):                  0.919   Jarque-Bera (JB):                0.142\n",
       "Skew:                           0.082   Prob(JB):                        0.932\n",
       "Kurtosis:                       2.941   Cond. No.                     3.70e+03\n",
       "==============================================================================\n",
       "\n",
       "Notes:\n",
       "[1] Standard Errors assume that the covariance matrix of the errors is correctly specified.\n",
       "[2] The condition number is large, 3.7e+03. This might indicate that there are\n",
       "strong multicollinearity or other numerical problems.\n",
       "\"\"\""
      ]
     },
     "execution_count": 107,
     "metadata": {},
     "output_type": "execute_result"
    }
   ],
   "source": [
    "# removing the insignificant variable \n",
    "model2=smf.ols('Price ~ ppi + cpu_core + cpu_freq + internal_mem + ram + thickness',data=df).fit()\n",
    "model2.summary()"
   ]
  },
  {
   "cell_type": "markdown",
   "metadata": {},
   "source": [
    "# Testing Step"
   ]
  },
  {
   "cell_type": "code",
   "execution_count": 108,
   "metadata": {},
   "outputs": [
    {
     "name": "stdout",
     "output_type": "stream",
     "text": [
      "     ppi  cpu_core  cpu_freq  internal_mem    ram  RearCam  Front_Cam  \\\n",
      "145  184         4     1.300         8.000  1.000    13.00        8.0   \n",
      "11   200         8     1.400         4.000  1.000     5.00        0.0   \n",
      "88   235         2     1.200         8.000  1.000     2.00        0.0   \n",
      "7    401         4     2.300        16.000  2.000    16.00        8.0   \n",
      "65   401         6     1.530        32.000  3.000    21.00        8.0   \n",
      "96   367         8     1.700        16.000  2.000    13.00       13.0   \n",
      "136  294         4     1.300        32.000  3.000     8.00        5.0   \n",
      "32   428         8     1.750        32.000  3.000    20.70        5.1   \n",
      "111  534         8     1.600        32.000  3.000    16.00        8.0   \n",
      "1    233         2     1.300         4.000  1.000     3.15        0.0   \n",
      "128  247         8     1.600        32.000  3.000     8.00        2.0   \n",
      "77   170         4     1.200         4.000  1.000     3.00        0.0   \n",
      "15   294         4     1.200         8.000  1.500     8.00        1.2   \n",
      "29   187         4     1.300         8.000  1.000     8.00        2.0   \n",
      "84   160         4     1.200         8.000  1.000     5.00        5.0   \n",
      "40   224         4     2.260        16.000  2.000     5.00        2.0   \n",
      "157  534         4     1.975       128.000  6.000    20.00        8.0   \n",
      "131  200         4     1.200         0.000  0.000     5.00        0.0   \n",
      "45   294         4     1.300        16.000  2.000    13.00        5.0   \n",
      "125  128         0     0.000         0.128  0.032     2.00        0.0   \n",
      "156  538         4     1.875       128.000  6.000    12.00       16.0   \n",
      "150  129         0     0.000         0.000  0.004     0.00        0.0   \n",
      "26   200         8     1.400         4.000  1.000     5.00        0.0   \n",
      "119  245         4     1.200         4.000  0.512     5.00        2.0   \n",
      "69   306         8     1.700        16.000  1.000     8.00        5.0   \n",
      "75   294         8     1.500        16.000  2.000    13.00        5.0   \n",
      "54   294         4     1.000         8.000  1.000     8.00        5.0   \n",
      "139  441         4     2.300        32.000  2.000     4.00        5.0   \n",
      "46   233         2     1.000         4.000  0.512     2.00        0.0   \n",
      "41   294         4     1.300        32.000  3.000     8.00        5.0   \n",
      "160  367         8     1.500        16.000  3.000    21.50       16.0   \n",
      "81   121         1     0.208         0.000  0.004     0.00        0.0   \n",
      "20   277         8     1.500        32.000  4.000    13.00        8.0   \n",
      "31   577         8     2.300        32.000  4.000    12.00        5.0   \n",
      "28   220         4     1.200         8.000  1.000     5.00        5.0   \n",
      "82   515         8     1.800        32.000  4.000    16.00        5.0   \n",
      "154  367         8     1.500        16.000  3.000    21.50       16.0   \n",
      "142  424         4     2.500        16.000  3.000    20.70        2.2   \n",
      "12   294         4     1.300        16.000  1.000    13.00        5.0   \n",
      "16   441         4     2.300        16.000  2.000    13.00        2.0   \n",
      "59   245         4     1.200         8.000  1.000     5.00        0.0   \n",
      "126  128         0     0.000         0.128  0.032     2.00        0.0   \n",
      "51   170         2     1.300         4.000  0.512     2.00        0.0   \n",
      "122  258         4     1.200        16.000  2.000     8.00        1.0   \n",
      "147  806         8     1.750        32.000  3.000    23.00        5.1   \n",
      "127  247         8     1.600        32.000  3.000     8.00        2.0   \n",
      "116  401         8     2.000        32.000  4.000    12.00       13.0   \n",
      "99   221         4     1.200         8.000  0.512     5.00        0.0   \n",
      "140  128         0     0.000         0.256  0.128     1.30        0.0   \n",
      "\n",
      "     thickness  \n",
      "145        8.0  \n",
      "11         8.9  \n",
      "88        10.6  \n",
      "7          9.5  \n",
      "65         9.3  \n",
      "96         8.2  \n",
      "136        8.5  \n",
      "32         6.9  \n",
      "111        7.0  \n",
      "1          9.9  \n",
      "128        8.0  \n",
      "77         9.0  \n",
      "15        10.0  \n",
      "29         6.4  \n",
      "84         9.0  \n",
      "40         7.8  \n",
      "157        7.9  \n",
      "131       11.6  \n",
      "45         8.7  \n",
      "125       15.6  \n",
      "156        8.4  \n",
      "150       14.1  \n",
      "26         8.9  \n",
      "119       10.9  \n",
      "69         5.1  \n",
      "75         7.8  \n",
      "54         8.1  \n",
      "139        9.4  \n",
      "46         9.8  \n",
      "41         7.6  \n",
      "160        8.4  \n",
      "81        13.2  \n",
      "20         7.7  \n",
      "31         7.9  \n",
      "28         8.8  \n",
      "82         7.6  \n",
      "154        8.4  \n",
      "142        7.3  \n",
      "12         8.2  \n",
      "16        10.0  \n",
      "59        12.3  \n",
      "126       15.6  \n",
      "51         9.1  \n",
      "122       10.2  \n",
      "147        7.8  \n",
      "127        8.0  \n",
      "116        8.0  \n",
      "99         9.2  \n",
      "140       18.5  \n"
     ]
    }
   ],
   "source": [
    "print(X_test)"
   ]
  },
  {
   "cell_type": "markdown",
   "metadata": {},
   "source": [
    "# Prediction on Test Data"
   ]
  },
  {
   "cell_type": "code",
   "execution_count": 109,
   "metadata": {},
   "outputs": [
    {
     "name": "stdout",
     "output_type": "stream",
     "text": [
      "145    1753.304788\n",
      "11     1937.940913\n",
      "88     1488.439011\n",
      "7      2177.112979\n",
      "65     2493.759516\n",
      "96     2428.169283\n",
      "136    2281.791875\n",
      "32     2845.169299\n",
      "111    2946.491219\n",
      "1      1517.728076\n",
      "128    2542.400067\n",
      "77     1626.714921\n",
      "15     1792.364602\n",
      "29     1873.132377\n",
      "84     1643.673815\n",
      "40     2092.711879\n",
      "157    3748.925358\n",
      "131    1310.346685\n",
      "45     2019.818090\n",
      "125     580.235770\n",
      "156    3707.986260\n",
      "150     685.833844\n",
      "26     1937.940913\n",
      "119    1510.022257\n",
      "69     2449.785402\n",
      "75     2354.588685\n",
      "54     1845.454464\n",
      "139    2344.587499\n",
      "46     1432.315812\n",
      "41     2347.246544\n",
      "160    2528.646021\n",
      "81      823.906924\n",
      "20     2723.071537\n",
      "31     3128.448925\n",
      "28     1727.493947\n",
      "82     3032.714830\n",
      "154    2528.646021\n",
      "142    2515.465594\n",
      "12     1922.772170\n",
      "16     2186.932374\n",
      "59     1501.812449\n",
      "126     580.235770\n",
      "51     1438.067725\n",
      "122    1859.968482\n",
      "147    3216.144924\n",
      "127    2542.400067\n",
      "116    2890.389436\n",
      "99     1634.453664\n",
      "140     383.045754\n",
      "dtype: float64\n"
     ]
    }
   ],
   "source": [
    "Y_pred=model2.predict(X_test)\n",
    "print(Y_pred)"
   ]
  },
  {
   "cell_type": "markdown",
   "metadata": {},
   "source": [
    "# Building a new data frame with actual and predicted sales "
   ]
  },
  {
   "cell_type": "code",
   "execution_count": 111,
   "metadata": {},
   "outputs": [
    {
     "name": "stdout",
     "output_type": "stream",
     "text": [
      "     ppi  cpu_core  cpu_freq  internal_mem    ram  RearCam  Front_Cam  \\\n",
      "145  184         4     1.300         8.000  1.000    13.00        8.0   \n",
      "11   200         8     1.400         4.000  1.000     5.00        0.0   \n",
      "88   235         2     1.200         8.000  1.000     2.00        0.0   \n",
      "7    401         4     2.300        16.000  2.000    16.00        8.0   \n",
      "65   401         6     1.530        32.000  3.000    21.00        8.0   \n",
      "96   367         8     1.700        16.000  2.000    13.00       13.0   \n",
      "136  294         4     1.300        32.000  3.000     8.00        5.0   \n",
      "32   428         8     1.750        32.000  3.000    20.70        5.1   \n",
      "111  534         8     1.600        32.000  3.000    16.00        8.0   \n",
      "1    233         2     1.300         4.000  1.000     3.15        0.0   \n",
      "128  247         8     1.600        32.000  3.000     8.00        2.0   \n",
      "77   170         4     1.200         4.000  1.000     3.00        0.0   \n",
      "15   294         4     1.200         8.000  1.500     8.00        1.2   \n",
      "29   187         4     1.300         8.000  1.000     8.00        2.0   \n",
      "84   160         4     1.200         8.000  1.000     5.00        5.0   \n",
      "40   224         4     2.260        16.000  2.000     5.00        2.0   \n",
      "157  534         4     1.975       128.000  6.000    20.00        8.0   \n",
      "131  200         4     1.200         0.000  0.000     5.00        0.0   \n",
      "45   294         4     1.300        16.000  2.000    13.00        5.0   \n",
      "125  128         0     0.000         0.128  0.032     2.00        0.0   \n",
      "156  538         4     1.875       128.000  6.000    12.00       16.0   \n",
      "150  129         0     0.000         0.000  0.004     0.00        0.0   \n",
      "26   200         8     1.400         4.000  1.000     5.00        0.0   \n",
      "119  245         4     1.200         4.000  0.512     5.00        2.0   \n",
      "69   306         8     1.700        16.000  1.000     8.00        5.0   \n",
      "75   294         8     1.500        16.000  2.000    13.00        5.0   \n",
      "54   294         4     1.000         8.000  1.000     8.00        5.0   \n",
      "139  441         4     2.300        32.000  2.000     4.00        5.0   \n",
      "46   233         2     1.000         4.000  0.512     2.00        0.0   \n",
      "41   294         4     1.300        32.000  3.000     8.00        5.0   \n",
      "160  367         8     1.500        16.000  3.000    21.50       16.0   \n",
      "81   121         1     0.208         0.000  0.004     0.00        0.0   \n",
      "20   277         8     1.500        32.000  4.000    13.00        8.0   \n",
      "31   577         8     2.300        32.000  4.000    12.00        5.0   \n",
      "28   220         4     1.200         8.000  1.000     5.00        5.0   \n",
      "82   515         8     1.800        32.000  4.000    16.00        5.0   \n",
      "154  367         8     1.500        16.000  3.000    21.50       16.0   \n",
      "142  424         4     2.500        16.000  3.000    20.70        2.2   \n",
      "12   294         4     1.300        16.000  1.000    13.00        5.0   \n",
      "16   441         4     2.300        16.000  2.000    13.00        2.0   \n",
      "59   245         4     1.200         8.000  1.000     5.00        0.0   \n",
      "126  128         0     0.000         0.128  0.032     2.00        0.0   \n",
      "51   170         2     1.300         4.000  0.512     2.00        0.0   \n",
      "122  258         4     1.200        16.000  2.000     8.00        1.0   \n",
      "147  806         8     1.750        32.000  3.000    23.00        5.1   \n",
      "127  247         8     1.600        32.000  3.000     8.00        2.0   \n",
      "116  401         8     2.000        32.000  4.000    12.00       13.0   \n",
      "99   221         4     1.200         8.000  0.512     5.00        0.0   \n",
      "140  128         0     0.000         0.256  0.128     1.30        0.0   \n",
      "\n",
      "     thickness  Actual sales  Predicted sales  Actual Price  Predicted Price  \n",
      "145        8.0          1921      1753.304788          1921      1753.304788  \n",
      "11         8.9          2006      1937.940913          2006      1937.940913  \n",
      "88        10.6          1302      1488.439011          1302      1488.439011  \n",
      "7          9.5          2137      2177.112979          2137      2177.112979  \n",
      "65         9.3          2824      2493.759516          2824      2493.759516  \n",
      "96         8.2          2562      2428.169283          2562      2428.169283  \n",
      "136        8.5          2445      2281.791875          2445      2281.791875  \n",
      "32         6.9          3316      2845.169299          3316      2845.169299  \n",
      "111        7.0          2975      2946.491219          2975      2946.491219  \n",
      "1          9.9          1749      1517.728076          1749      1517.728076  \n",
      "128        8.0          2491      2542.400067          2491      2542.400067  \n",
      "77         9.0          1396      1626.714921          1396      1626.714921  \n",
      "15        10.0          1612      1792.364602          1612      1792.364602  \n",
      "29         6.4          1950      1873.132377          1950      1873.132377  \n",
      "84         9.0          1646      1643.673815          1646      1643.673815  \n",
      "40         7.8          2124      2092.711879          2124      2092.711879  \n",
      "157        7.9          3211      3748.925358          3211      3748.925358  \n",
      "131       11.6          1357      1310.346685          1357      1310.346685  \n",
      "45         8.7          1989      2019.818090          1989      2019.818090  \n",
      "125       15.6           705       580.235770           705       580.235770  \n",
      "156        8.4          3551      3707.986260          3551      3707.986260  \n",
      "150       14.1           614       685.833844           614       685.833844  \n",
      "26         8.9          2006      1937.940913          2006      1937.940913  \n",
      "119       10.9          1734      1510.022257          1734      1510.022257  \n",
      "69         5.1          2323      2449.785402          2323      2449.785402  \n",
      "75         7.8          2276      2354.588685          2276      2354.588685  \n",
      "54         8.1          1984      1845.454464          1984      1845.454464  \n",
      "139        9.4          2409      2344.587499          2409      2344.587499  \n",
      "46         9.8          1421      1432.315812          1421      1432.315812  \n",
      "41         7.6          2087      2347.246544          2087      2347.246544  \n",
      "160        8.4          2536      2528.646021          2536      2528.646021  \n",
      "81        13.2           791       823.906924           791       823.906924  \n",
      "20         7.7          2438      2723.071537          2438      2723.071537  \n",
      "31         7.9          2977      3128.448925          2977      3128.448925  \n",
      "28         8.8          1390      1727.493947          1390      1727.493947  \n",
      "82         7.6          3005      3032.714830          3005      3032.714830  \n",
      "154        8.4          2536      2528.646021          2536      2528.646021  \n",
      "142        7.3          2508      2515.465594          2508      2515.465594  \n",
      "12         8.2          2174      1922.772170          2174      1922.772170  \n",
      "16        10.0          2258      2186.932374          2258      2186.932374  \n",
      "59        12.3          1741      1501.812449          1741      1501.812449  \n",
      "126       15.6           705       580.235770           705       580.235770  \n",
      "51         9.1          1347      1438.067725          1347      1438.067725  \n",
      "122       10.2          2001      1859.968482          2001      1859.968482  \n",
      "147        7.8          3102      3216.144924          3102      3216.144924  \n",
      "127        8.0          2491      2542.400067          2491      2542.400067  \n",
      "116        8.0          3287      2890.389436          3287      2890.389436  \n",
      "99         9.2          1511      1634.453664          1511      1634.453664  \n",
      "140       18.5           628       383.045754           628       383.045754  \n"
     ]
    },
    {
     "name": "stderr",
     "output_type": "stream",
     "text": [
      "C:\\Users\\Vikas Apte\\AppData\\Local\\Temp/ipykernel_22380/2564086848.py:3: SettingWithCopyWarning: \n",
      "A value is trying to be set on a copy of a slice from a DataFrame.\n",
      "Try using .loc[row_indexer,col_indexer] = value instead\n",
      "\n",
      "See the caveats in the documentation: https://pandas.pydata.org/pandas-docs/stable/user_guide/indexing.html#returning-a-view-versus-a-copy\n",
      "  new_df[\"Actual Price\"]=y_test\n",
      "C:\\Users\\Vikas Apte\\AppData\\Local\\Temp/ipykernel_22380/2564086848.py:4: SettingWithCopyWarning: \n",
      "A value is trying to be set on a copy of a slice from a DataFrame.\n",
      "Try using .loc[row_indexer,col_indexer] = value instead\n",
      "\n",
      "See the caveats in the documentation: https://pandas.pydata.org/pandas-docs/stable/user_guide/indexing.html#returning-a-view-versus-a-copy\n",
      "  new_df[\"Predicted Price\"]=Y_pred\n"
     ]
    }
   ],
   "source": [
    "new_df=pd.DataFrame()\n",
    "new_df=X_test\n",
    "new_df[\"Actual Price\"]=y_test\n",
    "new_df[\"Predicted Price\"]=Y_pred\n",
    "print(new_df)"
   ]
  },
  {
   "cell_type": "markdown",
   "metadata": {},
   "source": [
    "# MSE & MAE & RMSE for evaluation of Model on test data "
   ]
  },
  {
   "cell_type": "code",
   "execution_count": 112,
   "metadata": {},
   "outputs": [
    {
     "name": "stdout",
     "output_type": "stream",
     "text": [
      "MSE 3.55e+04\n",
      "MAE 1.44e+02\n",
      "RMSE 1.88e+02\n"
     ]
    }
   ],
   "source": [
    "from sklearn.metrics import mean_squared_error, r2_score,mean_absolute_error\n",
    "import math\n",
    "# calculate the mean squared error\n",
    "model_mse = mean_squared_error(new_df['Actual Price'],new_df['Predicted Price'])\n",
    "# calculate the mean absolute error\n",
    "model_mae = mean_absolute_error(new_df['Actual Price'],new_df['Predicted Price'])\n",
    "# calulcate the root mean squared error\n",
    "model_rmse = math.sqrt(model_mse)\n",
    "# display the output\n",
    "print(\"MSE {:.3}\".format(model_mse))\n",
    "print(\"MAE {:.3}\".format(model_mae))\n",
    "print(\"RMSE {:.3}\".format(model_rmse))"
   ]
  },
  {
   "cell_type": "markdown",
   "metadata": {},
   "source": [
    "# Assumption of Model\n",
    "\n",
    "* Normality\n",
    "* Homoscedasticity\n",
    "* Model Error has to be independently identificaly Distibuted"
   ]
  },
  {
   "cell_type": "code",
   "execution_count": 113,
   "metadata": {},
   "outputs": [],
   "source": [
    "df['fitted_value']=model2.fittedvalues\n",
    "df['residual']=model2.resid"
   ]
  },
  {
   "cell_type": "markdown",
   "metadata": {},
   "source": [
    "# Homoscedasticity"
   ]
  },
  {
   "cell_type": "code",
   "execution_count": 114,
   "metadata": {},
   "outputs": [
    {
     "data": {
      "image/png": "[encoded data removed]",
      "text/plain": [
       "<Figure size 432x288 with 1 Axes>"
      ]
     },
     "metadata": {
      "needs_background": "light"
     },
     "output_type": "display_data"
    }
   ],
   "source": [
    "p = df.plot.scatter(x='fitted_value',y='residual')\n",
    "plt.xlabel('Fitted values')\n",
    "plt.ylabel('Residuals')\n",
    "p = plt.title('Residuals vs fitted values plot for homoscedasticity check')\n",
    "plt.show()"
   ]
  },
  {
   "cell_type": "markdown",
   "metadata": {},
   "source": [
    "# Normality"
   ]
  },
  {
   "cell_type": "code",
   "execution_count": 115,
   "metadata": {},
   "outputs": [
    {
     "name": "stderr",
     "output_type": "stream",
     "text": [
      "C:\\Users\\Vikas Apte\\anaconda3\\lib\\site-packages\\statsmodels\\graphics\\gofplots.py:993: UserWarning: marker is redundantly defined by the 'marker' keyword argument and the fmt string \"bo\" (-> marker='o'). The keyword argument will take precedence.\n",
      "  ax.plot(x, y, fmt, **plot_style)\n"
     ]
    },
    {
     "data": {
      "image/png": "[encoded data removed]",
      "text/plain": [
       "<Figure size 432x288 with 1 Axes>"
      ]
     },
     "metadata": {
      "needs_background": "light"
     },
     "output_type": "display_data"
    }
   ],
   "source": [
    "import statsmodels.api as sm\n",
    "from matplotlib import pyplot as plt\n",
    "import scipy.stats as stats\n",
    "fig = sm.qqplot(df['residual'], fit=True, line='s') # s indicate standardized line\n",
    "plt.show()"
   ]
  },
  {
   "cell_type": "markdown",
   "metadata": {},
   "source": [
    "# Model Error are IID "
   ]
  },
  {
   "cell_type": "code",
   "execution_count": 116,
   "metadata": {},
   "outputs": [
    {
     "data": {
      "text/plain": [
       "<AxesSubplot:ylabel='Frequency'>"
      ]
     },
     "execution_count": 116,
     "metadata": {},
     "output_type": "execute_result"
    },
    {
     "data": {
      "image/png": "[encoded data removed]",
      "text/plain": [
       "<Figure size 432x288 with 1 Axes>"
      ]
     },
     "metadata": {
      "needs_background": "light"
     },
     "output_type": "display_data"
    }
   ],
   "source": [
    "df['residual'].plot.hist()"
   ]
  },
  {
   "cell_type": "markdown",
   "metadata": {},
   "source": [
    "# Durbin Watson Test"
   ]
  },
  {
   "cell_type": "raw",
   "metadata": {},
   "source": [
    "Test for auto-correlation\n",
    "\n",
    "Little or no auto-correlation between the residuals or the error terms:\n",
    "Look for Durbin – Watson (DW) statistic. \n",
    "    \n",
    "    Durbin Watson test: Auto-correlation happens when the residual errors are dependent on each other. \n",
    "        The presence of correlation in error terms drastically reduces model accuracy. It is tested by the DW test.\n",
    "        The range of the DW test are:\n",
    "            a. The value of D lies between 0 and 4\n",
    "            b. If DW = 2, implies no autocorrelation\n",
    "            c. 0 < DW < 2 implies positive autocorrelation (substantially less)\n",
    "            d. 2 < DW < 4 indicates negative autocorrelation\n",
    "            e. The rule of thumb states that if D is less than 1 then there is cause of alarm."
   ]
  },
  {
   "cell_type": "code",
   "execution_count": 117,
   "metadata": {},
   "outputs": [
    {
     "data": {
      "text/plain": [
       "1.8115494686943867"
      ]
     },
     "execution_count": 117,
     "metadata": {},
     "output_type": "execute_result"
    }
   ],
   "source": [
    "import statsmodels \n",
    "statsmodels.stats.stattools.durbin_watson(df['residual'], axis=0)"
   ]
  },
  {
   "cell_type": "code",
   "execution_count": null,
   "metadata": {},
   "outputs": [],
   "source": []
  }
 ],
 "metadata": {
  "kernelspec": {
   "display_name": "Python 3 (ipykernel)",
   "language": "python",
   "name": "python3"
  },
  "language_info": {
   "codemirror_mode": {
    "name": "ipython",
    "version": 3
   },
   "file_extension": ".py",
   "mimetype": "text/x-python",
   "name": "python",
   "nbconvert_exporter": "python",
   "pygments_lexer": "ipython3",
   "version": "3.9.7"
  }
 },
 "nbformat": 4,
 "nbformat_minor": 2
}
